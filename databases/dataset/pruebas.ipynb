{
 "cells": [
  {
   "cell_type": "code",
   "execution_count": 2,
   "metadata": {},
   "outputs": [
    {
     "name": "stdout",
     "output_type": "stream",
     "text": [
      "Valores únicos en la columna 'Customer ID': [   1    2    3 ... 3898 3899 3900]\n",
      "Valores únicos en la columna 'Age': [55 19 50 21 45 46 63 27 26 57 53 30 61 65 64 25 52 66 31 56 18 38 54 33\n",
      " 36 35 29 70 69 67 20 39 42 68 49 59 47 40 41 48 22 24 44 37 58 32 62 51\n",
      " 28 43 34 23 60]\n",
      "Valores únicos en la columna 'Gender': ['Male' 'Female']\n",
      "Valores únicos en la columna 'Item Purchased': ['Blouse' 'Sweater' 'Jeans' 'Sandals' 'Sneakers' 'Shirt' 'Shorts' 'Coat'\n",
      " 'Handbag' 'Shoes' 'Dress' 'Skirt' 'Sunglasses' 'Pants' 'Jacket' 'Hoodie'\n",
      " 'Jewelry' 'T-shirt' 'Scarf' 'Hat' 'Socks' 'Backpack' 'Belt' 'Boots'\n",
      " 'Gloves']\n",
      "Valores únicos en la columna 'Category': ['Clothing' 'Footwear' 'Outerwear' 'Accessories']\n",
      "Valores únicos en la columna 'Purchase Amount (USD)': [ 53  64  73  90  49  20  85  34  97  31  68  72  51  81  36  38  48  62\n",
      "  37  88  22  25  56  94  79  67  91  33  69  45  60  76  39 100  21  43\n",
      "  54  55  30  28  59  24  83  46  70  29  26  58  96  40  32  95  41  47\n",
      "  99  87  92  98  89  35  75  65  86  84  77  27  23  74  80  42  61  82\n",
      "  78  93  50  57  66  44  52  71  63]\n",
      "Valores únicos en la columna 'Location': ['Kentucky' 'Maine' 'Massachusetts' 'Rhode Island' 'Oregon' 'Wyoming'\n",
      " 'Montana' 'Louisiana' 'West Virginia' 'Missouri' 'Arkansas' 'Hawaii'\n",
      " 'Delaware' 'New Hampshire' 'New York' 'Alabama' 'Mississippi'\n",
      " 'North Carolina' 'California' 'Oklahoma' 'Florida' 'Texas' 'Nevada'\n",
      " 'Kansas' 'Colorado' 'North Dakota' 'Illinois' 'Indiana' 'Arizona'\n",
      " 'Alaska' 'Tennessee' 'Ohio' 'New Jersey' 'Maryland' 'Vermont'\n",
      " 'New Mexico' 'South Carolina' 'Idaho' 'Pennsylvania' 'Connecticut' 'Utah'\n",
      " 'Virginia' 'Georgia' 'Nebraska' 'Iowa' 'South Dakota' 'Minnesota'\n",
      " 'Washington' 'Wisconsin' 'Michigan']\n",
      "Valores únicos en la columna 'Size': ['L' 'S' 'M' 'XL']\n",
      "Valores únicos en la columna 'Color': ['Gray' 'Maroon' 'Turquoise' 'White' 'Charcoal' 'Silver' 'Pink' 'Purple'\n",
      " 'Olive' 'Gold' 'Violet' 'Teal' 'Lavender' 'Black' 'Green' 'Peach' 'Red'\n",
      " 'Cyan' 'Brown' 'Beige' 'Orange' 'Indigo' 'Yellow' 'Magenta' 'Blue']\n",
      "Valores únicos en la columna 'Season': ['Winter' 'Spring' 'Summer' 'Fall']\n",
      "Valores únicos en la columna 'Review Rating': [3.1 3.5 2.7 2.9 3.2 2.6 4.8 4.1 4.9 4.5 4.7 2.8 4.6 3.3 4.4 3.6 5.  4.\n",
      " 3.7 4.2 3.9 3.  3.8 3.4 4.3 2.5]\n",
      "Valores únicos en la columna 'Subscription Status': ['Yes' 'No']\n",
      "Valores únicos en la columna 'Payment Method': ['Credit Card' 'Bank Transfer' 'Cash' 'PayPal' 'Venmo' 'Debit Card']\n",
      "Valores únicos en la columna 'Shipping Type': ['Express' 'Free Shipping' 'Next Day Air' 'Standard' '2-Day Shipping'\n",
      " 'Store Pickup']\n",
      "Valores únicos en la columna 'Discount Applied': ['Yes' 'No']\n",
      "Valores únicos en la columna 'Promo Code Used': ['Yes' 'No']\n",
      "Valores únicos en la columna 'Previous Purchases': [14  2 23 49 31 19  8  4 26 10 37 34 44 36 17 46 50 22 32 40 16 13  7 41\n",
      " 45 38 48 18 15 25 39 35 29 21 43  3  5 24 42 47 28 20 33  1  9 12 27 11\n",
      " 30  6]\n",
      "Valores únicos en la columna 'Preferred Payment Method': ['Venmo' 'Cash' 'Credit Card' 'PayPal' 'Bank Transfer' 'Debit Card']\n",
      "Valores únicos en la columna 'Frequency of Purchases': ['Fortnightly' 'Weekly' 'Annually' 'Quarterly' 'Bi-Weekly' 'Monthly'\n",
      " 'Every 3 Months']\n"
     ]
    }
   ],
   "source": [
    "import pandas as pd\n",
    "\n",
    "# Cargar el dataset (sustituye 'data.csv' por el archivo de tu dataset)\n",
    "df = pd.read_csv('./databases/dataset/shopping_trends.csv')\n",
    "\n",
    "n = len(df)\n",
    "half = n // 2\n",
    "\n",
    "df_online = df.iloc[:half].copy()\n",
    "# Iterar sobre las columnas y obtener los valores únicos\n",
    "for column in df.columns:\n",
    "    unique_values = df[column].unique()\n",
    "    print(f\"Valores únicos en la columna '{column}': {unique_values}\")\n"
   ]
  },
  {
   "cell_type": "code",
   "execution_count": 3,
   "metadata": {},
   "outputs": [
    {
     "data": {
      "text/plain": [
       "Customer ID                 0\n",
       "Age                         0\n",
       "Gender                      0\n",
       "Item Purchased              0\n",
       "Category                    0\n",
       "Purchase Amount (USD)       0\n",
       "Location                    0\n",
       "Size                        0\n",
       "Color                       0\n",
       "Season                      0\n",
       "Review Rating               0\n",
       "Subscription Status         0\n",
       "Payment Method              0\n",
       "Shipping Type               0\n",
       "Discount Applied            0\n",
       "Promo Code Used             0\n",
       "Previous Purchases          0\n",
       "Preferred Payment Method    0\n",
       "Frequency of Purchases      0\n",
       "dtype: int64"
      ]
     },
     "execution_count": 3,
     "metadata": {},
     "output_type": "execute_result"
    }
   ],
   "source": [
    "df.isnull().sum()\n"
   ]
  },
  {
   "cell_type": "code",
   "execution_count": 4,
   "metadata": {},
   "outputs": [
    {
     "data": {
      "application/vnd.microsoft.datawrangler.viewer.v0+json": {
       "columns": [
        {
         "name": "index",
         "rawType": "int64",
         "type": "integer"
        },
        {
         "name": "Location",
         "rawType": "object",
         "type": "string"
        },
        {
         "name": "Purchase Amount (USD)",
         "rawType": "int64",
         "type": "integer"
        }
       ],
       "conversionMethod": "pd.DataFrame",
       "ref": "19881657-a775-4373-8dfa-76d609f880fd",
       "rows": [
        [
         "0",
         "Alabama",
         "5261"
        ],
        [
         "1",
         "Alaska",
         "4867"
        ],
        [
         "2",
         "Arizona",
         "4326"
        ],
        [
         "3",
         "Arkansas",
         "4828"
        ],
        [
         "4",
         "California",
         "5605"
        ],
        [
         "5",
         "Colorado",
         "4222"
        ],
        [
         "6",
         "Connecticut",
         "4226"
        ],
        [
         "7",
         "Delaware",
         "4758"
        ],
        [
         "8",
         "Florida",
         "3798"
        ],
        [
         "9",
         "Georgia",
         "4645"
        ],
        [
         "10",
         "Hawaii",
         "3752"
        ],
        [
         "11",
         "Idaho",
         "5587"
        ],
        [
         "12",
         "Illinois",
         "5617"
        ],
        [
         "13",
         "Indiana",
         "4655"
        ],
        [
         "14",
         "Iowa",
         "4201"
        ],
        [
         "15",
         "Kansas",
         "3437"
        ],
        [
         "16",
         "Kentucky",
         "4402"
        ],
        [
         "17",
         "Louisiana",
         "4848"
        ],
        [
         "18",
         "Maine",
         "4388"
        ],
        [
         "19",
         "Maryland",
         "4795"
        ],
        [
         "20",
         "Massachusetts",
         "4384"
        ],
        [
         "21",
         "Michigan",
         "4533"
        ],
        [
         "22",
         "Minnesota",
         "4977"
        ],
        [
         "23",
         "Mississippi",
         "4883"
        ],
        [
         "24",
         "Missouri",
         "4691"
        ],
        [
         "25",
         "Montana",
         "5784"
        ],
        [
         "26",
         "Nebraska",
         "5172"
        ],
        [
         "27",
         "Nevada",
         "5514"
        ],
        [
         "28",
         "New Hampshire",
         "4219"
        ],
        [
         "29",
         "New Jersey",
         "3802"
        ],
        [
         "30",
         "New Mexico",
         "5014"
        ],
        [
         "31",
         "New York",
         "5257"
        ],
        [
         "32",
         "North Carolina",
         "4742"
        ],
        [
         "33",
         "North Dakota",
         "5220"
        ],
        [
         "34",
         "Ohio",
         "4649"
        ],
        [
         "35",
         "Oklahoma",
         "4376"
        ],
        [
         "36",
         "Oregon",
         "4243"
        ],
        [
         "37",
         "Pennsylvania",
         "4926"
        ],
        [
         "38",
         "Rhode Island",
         "3871"
        ],
        [
         "39",
         "South Carolina",
         "4439"
        ],
        [
         "40",
         "South Dakota",
         "4236"
        ],
        [
         "41",
         "Tennessee",
         "4772"
        ],
        [
         "42",
         "Texas",
         "4712"
        ],
        [
         "43",
         "Utah",
         "4443"
        ],
        [
         "44",
         "Vermont",
         "4860"
        ],
        [
         "45",
         "Virginia",
         "4842"
        ],
        [
         "46",
         "Washington",
         "4623"
        ],
        [
         "47",
         "West Virginia",
         "5174"
        ],
        [
         "48",
         "Wisconsin",
         "4196"
        ],
        [
         "49",
         "Wyoming",
         "4309"
        ]
       ],
       "shape": {
        "columns": 2,
        "rows": 50
       }
      },
      "text/html": [
       "<div>\n",
       "<style scoped>\n",
       "    .dataframe tbody tr th:only-of-type {\n",
       "        vertical-align: middle;\n",
       "    }\n",
       "\n",
       "    .dataframe tbody tr th {\n",
       "        vertical-align: top;\n",
       "    }\n",
       "\n",
       "    .dataframe thead th {\n",
       "        text-align: right;\n",
       "    }\n",
       "</style>\n",
       "<table border=\"1\" class=\"dataframe\">\n",
       "  <thead>\n",
       "    <tr style=\"text-align: right;\">\n",
       "      <th></th>\n",
       "      <th>Location</th>\n",
       "      <th>Purchase Amount (USD)</th>\n",
       "    </tr>\n",
       "  </thead>\n",
       "  <tbody>\n",
       "    <tr>\n",
       "      <th>0</th>\n",
       "      <td>Alabama</td>\n",
       "      <td>5261</td>\n",
       "    </tr>\n",
       "    <tr>\n",
       "      <th>1</th>\n",
       "      <td>Alaska</td>\n",
       "      <td>4867</td>\n",
       "    </tr>\n",
       "    <tr>\n",
       "      <th>2</th>\n",
       "      <td>Arizona</td>\n",
       "      <td>4326</td>\n",
       "    </tr>\n",
       "    <tr>\n",
       "      <th>3</th>\n",
       "      <td>Arkansas</td>\n",
       "      <td>4828</td>\n",
       "    </tr>\n",
       "    <tr>\n",
       "      <th>4</th>\n",
       "      <td>California</td>\n",
       "      <td>5605</td>\n",
       "    </tr>\n",
       "    <tr>\n",
       "      <th>5</th>\n",
       "      <td>Colorado</td>\n",
       "      <td>4222</td>\n",
       "    </tr>\n",
       "    <tr>\n",
       "      <th>6</th>\n",
       "      <td>Connecticut</td>\n",
       "      <td>4226</td>\n",
       "    </tr>\n",
       "    <tr>\n",
       "      <th>7</th>\n",
       "      <td>Delaware</td>\n",
       "      <td>4758</td>\n",
       "    </tr>\n",
       "    <tr>\n",
       "      <th>8</th>\n",
       "      <td>Florida</td>\n",
       "      <td>3798</td>\n",
       "    </tr>\n",
       "    <tr>\n",
       "      <th>9</th>\n",
       "      <td>Georgia</td>\n",
       "      <td>4645</td>\n",
       "    </tr>\n",
       "    <tr>\n",
       "      <th>10</th>\n",
       "      <td>Hawaii</td>\n",
       "      <td>3752</td>\n",
       "    </tr>\n",
       "    <tr>\n",
       "      <th>11</th>\n",
       "      <td>Idaho</td>\n",
       "      <td>5587</td>\n",
       "    </tr>\n",
       "    <tr>\n",
       "      <th>12</th>\n",
       "      <td>Illinois</td>\n",
       "      <td>5617</td>\n",
       "    </tr>\n",
       "    <tr>\n",
       "      <th>13</th>\n",
       "      <td>Indiana</td>\n",
       "      <td>4655</td>\n",
       "    </tr>\n",
       "    <tr>\n",
       "      <th>14</th>\n",
       "      <td>Iowa</td>\n",
       "      <td>4201</td>\n",
       "    </tr>\n",
       "    <tr>\n",
       "      <th>15</th>\n",
       "      <td>Kansas</td>\n",
       "      <td>3437</td>\n",
       "    </tr>\n",
       "    <tr>\n",
       "      <th>16</th>\n",
       "      <td>Kentucky</td>\n",
       "      <td>4402</td>\n",
       "    </tr>\n",
       "    <tr>\n",
       "      <th>17</th>\n",
       "      <td>Louisiana</td>\n",
       "      <td>4848</td>\n",
       "    </tr>\n",
       "    <tr>\n",
       "      <th>18</th>\n",
       "      <td>Maine</td>\n",
       "      <td>4388</td>\n",
       "    </tr>\n",
       "    <tr>\n",
       "      <th>19</th>\n",
       "      <td>Maryland</td>\n",
       "      <td>4795</td>\n",
       "    </tr>\n",
       "    <tr>\n",
       "      <th>20</th>\n",
       "      <td>Massachusetts</td>\n",
       "      <td>4384</td>\n",
       "    </tr>\n",
       "    <tr>\n",
       "      <th>21</th>\n",
       "      <td>Michigan</td>\n",
       "      <td>4533</td>\n",
       "    </tr>\n",
       "    <tr>\n",
       "      <th>22</th>\n",
       "      <td>Minnesota</td>\n",
       "      <td>4977</td>\n",
       "    </tr>\n",
       "    <tr>\n",
       "      <th>23</th>\n",
       "      <td>Mississippi</td>\n",
       "      <td>4883</td>\n",
       "    </tr>\n",
       "    <tr>\n",
       "      <th>24</th>\n",
       "      <td>Missouri</td>\n",
       "      <td>4691</td>\n",
       "    </tr>\n",
       "    <tr>\n",
       "      <th>25</th>\n",
       "      <td>Montana</td>\n",
       "      <td>5784</td>\n",
       "    </tr>\n",
       "    <tr>\n",
       "      <th>26</th>\n",
       "      <td>Nebraska</td>\n",
       "      <td>5172</td>\n",
       "    </tr>\n",
       "    <tr>\n",
       "      <th>27</th>\n",
       "      <td>Nevada</td>\n",
       "      <td>5514</td>\n",
       "    </tr>\n",
       "    <tr>\n",
       "      <th>28</th>\n",
       "      <td>New Hampshire</td>\n",
       "      <td>4219</td>\n",
       "    </tr>\n",
       "    <tr>\n",
       "      <th>29</th>\n",
       "      <td>New Jersey</td>\n",
       "      <td>3802</td>\n",
       "    </tr>\n",
       "    <tr>\n",
       "      <th>30</th>\n",
       "      <td>New Mexico</td>\n",
       "      <td>5014</td>\n",
       "    </tr>\n",
       "    <tr>\n",
       "      <th>31</th>\n",
       "      <td>New York</td>\n",
       "      <td>5257</td>\n",
       "    </tr>\n",
       "    <tr>\n",
       "      <th>32</th>\n",
       "      <td>North Carolina</td>\n",
       "      <td>4742</td>\n",
       "    </tr>\n",
       "    <tr>\n",
       "      <th>33</th>\n",
       "      <td>North Dakota</td>\n",
       "      <td>5220</td>\n",
       "    </tr>\n",
       "    <tr>\n",
       "      <th>34</th>\n",
       "      <td>Ohio</td>\n",
       "      <td>4649</td>\n",
       "    </tr>\n",
       "    <tr>\n",
       "      <th>35</th>\n",
       "      <td>Oklahoma</td>\n",
       "      <td>4376</td>\n",
       "    </tr>\n",
       "    <tr>\n",
       "      <th>36</th>\n",
       "      <td>Oregon</td>\n",
       "      <td>4243</td>\n",
       "    </tr>\n",
       "    <tr>\n",
       "      <th>37</th>\n",
       "      <td>Pennsylvania</td>\n",
       "      <td>4926</td>\n",
       "    </tr>\n",
       "    <tr>\n",
       "      <th>38</th>\n",
       "      <td>Rhode Island</td>\n",
       "      <td>3871</td>\n",
       "    </tr>\n",
       "    <tr>\n",
       "      <th>39</th>\n",
       "      <td>South Carolina</td>\n",
       "      <td>4439</td>\n",
       "    </tr>\n",
       "    <tr>\n",
       "      <th>40</th>\n",
       "      <td>South Dakota</td>\n",
       "      <td>4236</td>\n",
       "    </tr>\n",
       "    <tr>\n",
       "      <th>41</th>\n",
       "      <td>Tennessee</td>\n",
       "      <td>4772</td>\n",
       "    </tr>\n",
       "    <tr>\n",
       "      <th>42</th>\n",
       "      <td>Texas</td>\n",
       "      <td>4712</td>\n",
       "    </tr>\n",
       "    <tr>\n",
       "      <th>43</th>\n",
       "      <td>Utah</td>\n",
       "      <td>4443</td>\n",
       "    </tr>\n",
       "    <tr>\n",
       "      <th>44</th>\n",
       "      <td>Vermont</td>\n",
       "      <td>4860</td>\n",
       "    </tr>\n",
       "    <tr>\n",
       "      <th>45</th>\n",
       "      <td>Virginia</td>\n",
       "      <td>4842</td>\n",
       "    </tr>\n",
       "    <tr>\n",
       "      <th>46</th>\n",
       "      <td>Washington</td>\n",
       "      <td>4623</td>\n",
       "    </tr>\n",
       "    <tr>\n",
       "      <th>47</th>\n",
       "      <td>West Virginia</td>\n",
       "      <td>5174</td>\n",
       "    </tr>\n",
       "    <tr>\n",
       "      <th>48</th>\n",
       "      <td>Wisconsin</td>\n",
       "      <td>4196</td>\n",
       "    </tr>\n",
       "    <tr>\n",
       "      <th>49</th>\n",
       "      <td>Wyoming</td>\n",
       "      <td>4309</td>\n",
       "    </tr>\n",
       "  </tbody>\n",
       "</table>\n",
       "</div>"
      ],
      "text/plain": [
       "          Location  Purchase Amount (USD)\n",
       "0          Alabama                   5261\n",
       "1           Alaska                   4867\n",
       "2          Arizona                   4326\n",
       "3         Arkansas                   4828\n",
       "4       California                   5605\n",
       "5         Colorado                   4222\n",
       "6      Connecticut                   4226\n",
       "7         Delaware                   4758\n",
       "8          Florida                   3798\n",
       "9          Georgia                   4645\n",
       "10          Hawaii                   3752\n",
       "11           Idaho                   5587\n",
       "12        Illinois                   5617\n",
       "13         Indiana                   4655\n",
       "14            Iowa                   4201\n",
       "15          Kansas                   3437\n",
       "16        Kentucky                   4402\n",
       "17       Louisiana                   4848\n",
       "18           Maine                   4388\n",
       "19        Maryland                   4795\n",
       "20   Massachusetts                   4384\n",
       "21        Michigan                   4533\n",
       "22       Minnesota                   4977\n",
       "23     Mississippi                   4883\n",
       "24        Missouri                   4691\n",
       "25         Montana                   5784\n",
       "26        Nebraska                   5172\n",
       "27          Nevada                   5514\n",
       "28   New Hampshire                   4219\n",
       "29      New Jersey                   3802\n",
       "30      New Mexico                   5014\n",
       "31        New York                   5257\n",
       "32  North Carolina                   4742\n",
       "33    North Dakota                   5220\n",
       "34            Ohio                   4649\n",
       "35        Oklahoma                   4376\n",
       "36          Oregon                   4243\n",
       "37    Pennsylvania                   4926\n",
       "38    Rhode Island                   3871\n",
       "39  South Carolina                   4439\n",
       "40    South Dakota                   4236\n",
       "41       Tennessee                   4772\n",
       "42           Texas                   4712\n",
       "43            Utah                   4443\n",
       "44         Vermont                   4860\n",
       "45        Virginia                   4842\n",
       "46      Washington                   4623\n",
       "47   West Virginia                   5174\n",
       "48       Wisconsin                   4196\n",
       "49         Wyoming                   4309"
      ]
     },
     "execution_count": 4,
     "metadata": {},
     "output_type": "execute_result"
    }
   ],
   "source": [
    "df_ventas_ubicacion = df.groupby('Location')['Purchase Amount (USD)'].sum().reset_index()\n",
    "df_ventas_ubicacion"
   ]
  },
  {
   "cell_type": "code",
   "execution_count": 5,
   "metadata": {},
   "outputs": [
    {
     "data": {
      "text/plain": [
       "[5261,\n",
       " 4867,\n",
       " 4326,\n",
       " 4828,\n",
       " 5605,\n",
       " 4222,\n",
       " 4226,\n",
       " 4758,\n",
       " 3798,\n",
       " 4645,\n",
       " 3752,\n",
       " 5587,\n",
       " 5617,\n",
       " 4655,\n",
       " 4201,\n",
       " 3437,\n",
       " 4402,\n",
       " 4848,\n",
       " 4388,\n",
       " 4795,\n",
       " 4384,\n",
       " 4533,\n",
       " 4977,\n",
       " 4883,\n",
       " 4691,\n",
       " 5784,\n",
       " 5172,\n",
       " 5514,\n",
       " 4219,\n",
       " 3802,\n",
       " 5014,\n",
       " 5257,\n",
       " 4742,\n",
       " 5220,\n",
       " 4649,\n",
       " 4376,\n",
       " 4243,\n",
       " 4926,\n",
       " 3871,\n",
       " 4439,\n",
       " 4236,\n",
       " 4772,\n",
       " 4712,\n",
       " 4443,\n",
       " 4860,\n",
       " 4842,\n",
       " 4623,\n",
       " 5174,\n",
       " 4196,\n",
       " 4309]"
      ]
     },
     "execution_count": 5,
     "metadata": {},
     "output_type": "execute_result"
    }
   ],
   "source": [
    "df_ventas_ubicacion['Purchase Amount (USD)'].tolist()"
   ]
  }
 ],
 "metadata": {
  "kernelspec": {
   "display_name": "base",
   "language": "python",
   "name": "python3"
  },
  "language_info": {
   "codemirror_mode": {
    "name": "ipython",
    "version": 3
   },
   "file_extension": ".py",
   "mimetype": "text/x-python",
   "name": "python",
   "nbconvert_exporter": "python",
   "pygments_lexer": "ipython3",
   "version": "3.11.4"
  }
 },
 "nbformat": 4,
 "nbformat_minor": 2
}
