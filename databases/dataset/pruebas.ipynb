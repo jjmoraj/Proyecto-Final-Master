{
 "cells": [
  {
   "cell_type": "code",
   "execution_count": 4,
   "metadata": {},
   "outputs": [
    {
     "name": "stdout",
     "output_type": "stream",
     "text": [
      "Valores únicos en la columna 'Customer ID': [   1    2    3 ... 3898 3899 3900]\n",
      "Valores únicos en la columna 'Age': [55 19 50 21 45 46 63 27 26 57 53 30 61 65 64 25 52 66 31 56 18 38 54 33\n",
      " 36 35 29 70 69 67 20 39 42 68 49 59 47 40 41 48 22 24 44 37 58 32 62 51\n",
      " 28 43 34 23 60]\n",
      "Valores únicos en la columna 'Gender': ['Male' 'Female']\n",
      "Valores únicos en la columna 'Item Purchased': ['Blouse' 'Sweater' 'Jeans' 'Sandals' 'Sneakers' 'Shirt' 'Shorts' 'Coat'\n",
      " 'Handbag' 'Shoes' 'Dress' 'Skirt' 'Sunglasses' 'Pants' 'Jacket' 'Hoodie'\n",
      " 'Jewelry' 'T-shirt' 'Scarf' 'Hat' 'Socks' 'Backpack' 'Belt' 'Boots'\n",
      " 'Gloves']\n",
      "Valores únicos en la columna 'Category': ['Clothing' 'Footwear' 'Outerwear' 'Accessories']\n",
      "Valores únicos en la columna 'Purchase Amount (USD)': [ 53  64  73  90  49  20  85  34  97  31  68  72  51  81  36  38  48  62\n",
      "  37  88  22  25  56  94  79  67  91  33  69  45  60  76  39 100  21  43\n",
      "  54  55  30  28  59  24  83  46  70  29  26  58  96  40  32  95  41  47\n",
      "  99  87  92  98  89  35  75  65  86  84  77  27  23  74  80  42  61  82\n",
      "  78  93  50  57  66  44  52  71  63]\n",
      "Valores únicos en la columna 'Location': ['Kentucky' 'Maine' 'Massachusetts' 'Rhode Island' 'Oregon' 'Wyoming'\n",
      " 'Montana' 'Louisiana' 'West Virginia' 'Missouri' 'Arkansas' 'Hawaii'\n",
      " 'Delaware' 'New Hampshire' 'New York' 'Alabama' 'Mississippi'\n",
      " 'North Carolina' 'California' 'Oklahoma' 'Florida' 'Texas' 'Nevada'\n",
      " 'Kansas' 'Colorado' 'North Dakota' 'Illinois' 'Indiana' 'Arizona'\n",
      " 'Alaska' 'Tennessee' 'Ohio' 'New Jersey' 'Maryland' 'Vermont'\n",
      " 'New Mexico' 'South Carolina' 'Idaho' 'Pennsylvania' 'Connecticut' 'Utah'\n",
      " 'Virginia' 'Georgia' 'Nebraska' 'Iowa' 'South Dakota' 'Minnesota'\n",
      " 'Washington' 'Wisconsin' 'Michigan']\n",
      "Valores únicos en la columna 'Size': ['L' 'S' 'M' 'XL']\n",
      "Valores únicos en la columna 'Color': ['Gray' 'Maroon' 'Turquoise' 'White' 'Charcoal' 'Silver' 'Pink' 'Purple'\n",
      " 'Olive' 'Gold' 'Violet' 'Teal' 'Lavender' 'Black' 'Green' 'Peach' 'Red'\n",
      " 'Cyan' 'Brown' 'Beige' 'Orange' 'Indigo' 'Yellow' 'Magenta' 'Blue']\n",
      "Valores únicos en la columna 'Season': ['Winter' 'Spring' 'Summer' 'Fall']\n",
      "Valores únicos en la columna 'Review Rating': [3.1 3.5 2.7 2.9 3.2 2.6 4.8 4.1 4.9 4.5 4.7 2.8 4.6 3.3 4.4 3.6 5.  4.\n",
      " 3.7 4.2 3.9 3.  3.8 3.4 4.3 2.5]\n",
      "Valores únicos en la columna 'Subscription Status': ['Yes' 'No']\n",
      "Valores únicos en la columna 'Payment Method': ['Credit Card' 'Bank Transfer' 'Cash' 'PayPal' 'Venmo' 'Debit Card']\n",
      "Valores únicos en la columna 'Shipping Type': ['Express' 'Free Shipping' 'Next Day Air' 'Standard' '2-Day Shipping'\n",
      " 'Store Pickup']\n",
      "Valores únicos en la columna 'Discount Applied': ['Yes' 'No']\n",
      "Valores únicos en la columna 'Promo Code Used': ['Yes' 'No']\n",
      "Valores únicos en la columna 'Previous Purchases': [14  2 23 49 31 19  8  4 26 10 37 34 44 36 17 46 50 22 32 40 16 13  7 41\n",
      " 45 38 48 18 15 25 39 35 29 21 43  3  5 24 42 47 28 20 33  1  9 12 27 11\n",
      " 30  6]\n",
      "Valores únicos en la columna 'Preferred Payment Method': ['Venmo' 'Cash' 'Credit Card' 'PayPal' 'Bank Transfer' 'Debit Card']\n",
      "Valores únicos en la columna 'Frequency of Purchases': ['Fortnightly' 'Weekly' 'Annually' 'Quarterly' 'Bi-Weekly' 'Monthly'\n",
      " 'Every 3 Months']\n"
     ]
    }
   ],
   "source": [
    "import pandas as pd\n",
    "\n",
    "# Cargar el dataset (sustituye 'data.csv' por el archivo de tu dataset)\n",
    "df = pd.read_csv('./databases/dataset/shopping_trends.csv')\n",
    "\n",
    "n = len(df)\n",
    "half = n // 2\n",
    "\n",
    "df_online = df.iloc[:half].copy()\n",
    "# Iterar sobre las columnas y obtener los valores únicos\n",
    "for column in df.columns:\n",
    "    unique_values = df[column].unique()\n",
    "    print(f\"Valores únicos en la columna '{column}': {unique_values}\")\n"
   ]
  },
  {
   "cell_type": "code",
   "execution_count": 5,
   "metadata": {},
   "outputs": [
    {
     "data": {
      "text/plain": [
       "Customer ID                 0\n",
       "Age                         0\n",
       "Gender                      0\n",
       "Item Purchased              0\n",
       "Category                    0\n",
       "Purchase Amount (USD)       0\n",
       "Location                    0\n",
       "Size                        0\n",
       "Color                       0\n",
       "Season                      0\n",
       "Review Rating               0\n",
       "Subscription Status         0\n",
       "Payment Method              0\n",
       "Shipping Type               0\n",
       "Discount Applied            0\n",
       "Promo Code Used             0\n",
       "Previous Purchases          0\n",
       "Preferred Payment Method    0\n",
       "Frequency of Purchases      0\n",
       "dtype: int64"
      ]
     },
     "execution_count": 5,
     "metadata": {},
     "output_type": "execute_result"
    }
   ],
   "source": [
    "df.isnull().sum()\n"
   ]
  }
 ],
 "metadata": {
  "kernelspec": {
   "display_name": "base",
   "language": "python",
   "name": "python3"
  },
  "language_info": {
   "codemirror_mode": {
    "name": "ipython",
    "version": 3
   },
   "file_extension": ".py",
   "mimetype": "text/x-python",
   "name": "python",
   "nbconvert_exporter": "python",
   "pygments_lexer": "ipython3",
   "version": "3.11.4"
  }
 },
 "nbformat": 4,
 "nbformat_minor": 2
}
